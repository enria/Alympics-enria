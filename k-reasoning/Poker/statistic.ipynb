{
 "cells": [
  {
   "cell_type": "code",
   "execution_count": 2,
   "metadata": {},
   "outputs": [],
   "source": [
    "from glob import glob\n",
    "import json\n",
    "\n",
    "def mean(result):\n",
    "    if not result: return 0\n",
    "    return sum(result)/len(result)\n"
   ]
  },
  {
   "cell_type": "code",
   "execution_count": null,
   "metadata": {},
   "outputs": [
    {
     "name": "stdout",
     "output_type": "stream",
     "text": [
      "Direct vs Direct -0.48\n",
      "CoT vs Direct 1.55\n"
     ]
    }
   ],
   "source": [
    "agents = {\n",
    "    \"Direct\": \"agent\",\n",
    "    \"CoT\": \"cot\"\n",
    "}\n",
    "computers = {\n",
    "    \"Direct\": \"agent\",\n",
    "    # \"CoT\": \"cot\"\n",
    "}\n",
    "\n",
    "win_result = {}\n",
    "\n",
    "for agent, agent_alias in agents.items():\n",
    "    for computer, computer_alias in computers.items():\n",
    "        exp = f\"result/{agent_alias}_VS_{computer_alias}*.json\"\n",
    "        cots = glob(exp)\n",
    "\n",
    "        win_result[f\"{agent} vs {computer}\"]=[]\n",
    "        players = []\n",
    "        for result in cots:\n",
    "            with open(result) as fin:\n",
    "                result = json.load(fin)\n",
    "                payoff = result[\"payoffs\"][\"Alex\"]\n",
    "                win_result[f\"{agent} vs {computer}\"].append(payoff)\n",
    "\n",
    "for computer in win_result:\n",
    "    print(computer, filter(lambda x:x>0, win_result[computer]))"
   ]
  }
 ],
 "metadata": {
  "kernelspec": {
   "display_name": "Python 3",
   "language": "python",
   "name": "python3"
  },
  "language_info": {
   "codemirror_mode": {
    "name": "ipython",
    "version": 3
   },
   "file_extension": ".py",
   "mimetype": "text/x-python",
   "name": "python",
   "nbconvert_exporter": "python",
   "pygments_lexer": "ipython3",
   "version": "3.10.0"
  }
 },
 "nbformat": 4,
 "nbformat_minor": 2
}
